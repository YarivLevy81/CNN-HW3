{
 "cells": [
  {
   "cell_type": "markdown",
   "metadata": {},
   "source": [
    "$$\n",
    "\\newcommand{\\mat}[1]{\\boldsymbol {#1}}\n",
    "\\newcommand{\\mattr}[1]{\\boldsymbol {#1}^\\top}\n",
    "\\newcommand{\\matinv}[1]{\\boldsymbol {#1}^{-1}}\n",
    "\\newcommand{\\vec}[1]{\\boldsymbol {#1}}\n",
    "\\newcommand{\\vectr}[1]{\\boldsymbol {#1}^\\top}\n",
    "\\newcommand{\\rvar}[1]{\\mathrm {#1}}\n",
    "\\newcommand{\\rvec}[1]{\\boldsymbol{\\mathrm{#1}}}\n",
    "\\newcommand{\\diag}{\\mathop{\\mathrm {diag}}}\n",
    "\\newcommand{\\set}[1]{\\mathbb {#1}}\n",
    "\\newcommand{\\norm}[1]{\\left\\lVert#1\\right\\rVert}\n",
    "\\newcommand{\\pderiv}[2]{\\frac{\\partial #1}{\\partial #2}}\n",
    "\\newcommand{\\bb}[1]{\\boldsymbol{#1}}\n",
    "$$\n",
    "# Part 4: Sequence Models\n",
    "<a id=part1></a>"
   ]
  },
  {
   "cell_type": "markdown",
   "metadata": {},
   "source": [
    "In this part we will learn about working with text sequences using recurrent neural networks.\n",
    "We'll go from a raw text file all the way to a fully trained GRU-RNN model and generate works of art!"
   ]
  },
  {
   "cell_type": "code",
   "execution_count": 1,
   "metadata": {},
   "outputs": [
    {
     "name": "stdout",
     "output_type": "stream",
     "text": [
      "Using device: cuda\n"
     ]
    }
   ],
   "source": [
    "import unittest\n",
    "import os\n",
    "import sys\n",
    "import pathlib\n",
    "import urllib\n",
    "import shutil\n",
    "import re\n",
    "\n",
    "import numpy as np\n",
    "import torch\n",
    "import matplotlib.pyplot as plt\n",
    "\n",
    "%load_ext autoreload\n",
    "%autoreload 2\n",
    "\n",
    "test = unittest.TestCase()\n",
    "plt.rcParams.update({'font.size': 12})\n",
    "device = torch.device('cuda' if torch.cuda.is_available() else 'cpu')\n",
    "print('Using device:', device)"
   ]
  },
  {
   "cell_type": "markdown",
   "metadata": {},
   "source": [
    "## Text generation with a char-level RNN\n",
    "<a id=part1_1></a>"
   ]
  },
  {
   "cell_type": "markdown",
   "metadata": {},
   "source": [
    "### Obtaining the corpus\n",
    "<a id=part1_2></a>"
   ]
  },
  {
   "cell_type": "markdown",
   "metadata": {},
   "source": [
    "Let's begin by downloading a corpus containing all the works of William Shakespeare.\n",
    "Since he was very prolific, this corpus is fairly large and will provide us with enough data for\n",
    "obtaining impressive results."
   ]
  },
  {
   "cell_type": "code",
   "execution_count": 2,
   "metadata": {},
   "outputs": [
    {
     "name": "stdout",
     "output_type": "stream",
     "text": [
      "Downloading https://github.com/cedricdeboom/character-level-rnn-datasets/raw/master/datasets/shakespeare.txt...\n",
      "Saved to /home/brian_loco/.pytorch-datasets/shakespeare.txt.\n"
     ]
    }
   ],
   "source": [
    "CORPUS_URL = 'https://github.com/cedricdeboom/character-level-rnn-datasets/raw/master/datasets/shakespeare.txt'\n",
    "DATA_DIR = pathlib.Path.home().joinpath('.pytorch-datasets')\n",
    "\n",
    "def download_corpus(out_path=DATA_DIR, url=CORPUS_URL, force=False):\n",
    "    pathlib.Path(out_path).mkdir(exist_ok=True)\n",
    "    out_filename = os.path.join(out_path, os.path.basename(url))\n",
    "    \n",
    "    if os.path.isfile(out_filename) and not force:\n",
    "        print(f'Corpus file {out_filename} exists, skipping download.')\n",
    "    else:\n",
    "        print(f'Downloading {url}...')\n",
    "        with urllib.request.urlopen(url) as response, open(out_filename, 'wb') as out_file:\n",
    "            shutil.copyfileobj(response, out_file)\n",
    "        print(f'Saved to {out_filename}.')\n",
    "    return out_filename\n",
    "    \n",
    "corpus_path = download_corpus()"
   ]
  },
  {
   "cell_type": "markdown",
   "metadata": {},
   "source": [
    "Load the text into memory and print a snippet:"
   ]
  },
  {
   "cell_type": "code",
   "execution_count": 3,
   "metadata": {},
   "outputs": [
    {
     "name": "stdout",
     "output_type": "stream",
     "text": [
      "Corpus length: 6347703 chars\n",
      "ALLS WELL THAT ENDS WELL\n",
      "\n",
      "by William Shakespeare\n",
      "\n",
      "Dramatis Personae\n",
      "\n",
      "  KING OF FRANCE\n",
      "  THE DUKE OF FLORENCE\n",
      "  BERTRAM, Count of Rousillon\n",
      "  LAFEU, an old lord\n",
      "  PAROLLES, a follower of Bertram\n",
      "  TWO FRENCH LORDS, serving with Bertram\n",
      "\n",
      "  STEWARD, Servant to the Countess of Rousillon\n",
      "  LAVACHE, a clown and Servant to the Countess of Rousillon\n",
      "  A PAGE, Servant to the Countess of Rousillon\n",
      "\n",
      "  COUNTESS OF ROUSILLON, mother to Bertram\n",
      "  HELENA, a gentlewoman protected by the Countess\n",
      "  A WIDOW OF FLORENCE.\n",
      "  DIANA, daughter to the Widow\n",
      "\n",
      "  VIOLENTA, neighbour and friend to the Widow\n",
      "  MARIANA, neighbour and friend to the Widow\n",
      "\n",
      "  Lords, Officers, Soldiers, etc., French and Florentine  \n",
      "\n",
      "SCENE:\n",
      "Rousillon; Paris; Florence; Marseilles\n",
      "\n",
      "ACT I. SCENE 1.\n",
      "Rousillon. The COUNT'S palace\n",
      "\n",
      "Enter BERTRAM, the COUNTESS OF ROUSILLON, HELENA, and LAFEU, all in black\n",
      "\n",
      "  COUNTESS. In delivering my son from me, I bury a second husband.\n",
      "  BERTRAM. And I in going, madam, weep o'er my father's death anew;\n",
      "    but I must attend his Majesty's command, to whom I am now in\n",
      "    ward, evermore in subjection.\n",
      "  LAFEU. You shall find of the King a husband, madam; you, sir, a\n",
      "    father. He that so generally is at all times good must of\n",
      "    \n"
     ]
    }
   ],
   "source": [
    "with open(corpus_path, 'r') as f:\n",
    "    corpus = f.read()\n",
    "\n",
    "print(f'Corpus length: {len(corpus)} chars')\n",
    "print(corpus[7:1234])"
   ]
  },
  {
   "cell_type": "markdown",
   "metadata": {},
   "source": [
    "### Data Preprocessing\n",
    "<a id=part1_3></a>"
   ]
  },
  {
   "cell_type": "markdown",
   "metadata": {},
   "source": [
    "The first thing we'll need is to map from each unique character in the corpus to an index that will represent it in our learning process.\n",
    "\n",
    "**TODO**: Implement the `char_maps()` function in the `hw3/charnn.py` module."
   ]
  },
  {
   "cell_type": "code",
   "execution_count": 4,
   "metadata": {},
   "outputs": [
    {
     "name": "stdout",
     "output_type": "stream",
     "text": [
      "{'\\n': 0, ' ': 1, '!': 2, '\"': 3, '$': 4, '&': 5, \"'\": 6, '(': 7, ')': 8, ',': 9, '-': 10, '.': 11, '0': 12, '1': 13, '2': 14, '3': 15, '4': 16, '5': 17, '6': 18, '7': 19, '8': 20, '9': 21, ':': 22, ';': 23, '<': 24, '?': 25, 'A': 26, 'B': 27, 'C': 28, 'D': 29, 'E': 30, 'F': 31, 'G': 32, 'H': 33, 'I': 34, 'J': 35, 'K': 36, 'L': 37, 'M': 38, 'N': 39, 'O': 40, 'P': 41, 'Q': 42, 'R': 43, 'S': 44, 'T': 45, 'U': 46, 'V': 47, 'W': 48, 'X': 49, 'Y': 50, 'Z': 51, '[': 52, ']': 53, '_': 54, 'a': 55, 'b': 56, 'c': 57, 'd': 58, 'e': 59, 'f': 60, 'g': 61, 'h': 62, 'i': 63, 'j': 64, 'k': 65, 'l': 66, 'm': 67, 'n': 68, 'o': 69, 'p': 70, 'q': 71, 'r': 72, 's': 73, 't': 74, 'u': 75, 'v': 76, 'w': 77, 'x': 78, 'y': 79, 'z': 80, '}': 81, '\\ufeff': 82}\n"
     ]
    }
   ],
   "source": [
    "import hw3.charnn as charnn\n",
    "\n",
    "char_to_idx, idx_to_char = charnn.char_maps(corpus)\n",
    "print(char_to_idx)\n",
    "\n",
    "test.assertEqual(len(char_to_idx), len(idx_to_char))\n",
    "test.assertSequenceEqual(list(char_to_idx.keys()), list(idx_to_char.values()))\n",
    "test.assertSequenceEqual(list(char_to_idx.values()), list(idx_to_char.keys()))"
   ]
  },
  {
   "cell_type": "markdown",
   "metadata": {},
   "source": [
    "Seems we have some strange characters in the corpus that are very rare and are probably due to mistakes.\n",
    "To reduce the length of each tensor we'll need to later represent our chars, it's best to remove them.\n",
    "\n",
    "**TODO**: Implement the `remove_chars()` function in the `hw3/charnn.py` module."
   ]
  },
  {
   "cell_type": "code",
   "execution_count": 5,
   "metadata": {},
   "outputs": [
    {
     "name": "stdout",
     "output_type": "stream",
     "text": [
      "Removed 34 chars\n"
     ]
    }
   ],
   "source": [
    "corpus, n_removed = charnn.remove_chars(corpus, ['}','$','_','<','\\ufeff'])\n",
    "print(f'Removed {n_removed} chars')\n",
    "\n",
    "# After removing the chars, re-create the mappings\n",
    "char_to_idx, idx_to_char = charnn.char_maps(corpus)"
   ]
  },
  {
   "cell_type": "markdown",
   "metadata": {},
   "source": [
    "The next thing we need is an **embedding** of the chracters.\n",
    "An embedding is a representation of each token from the sequence as a tensor.\n",
    "For a char-level RNN, our tokens will be chars and we can thus use the simplest possible embedding: encode each char as a **one-hot** tensor. In other words, each char will be represented\n",
    "as a tensor whos length is the total number of unique chars (`V`) which contains all zeros except at the index\n",
    "corresponding to that specific char.\n",
    "\n",
    "**TODO**: Implement the functions `chars_to_onehot()` and `onehot_to_chars()` in the `hw3/charnn.py` module."
   ]
  },
  {
   "cell_type": "code",
   "execution_count": 6,
   "metadata": {},
   "outputs": [
    {
     "name": "stdout",
     "output_type": "stream",
     "text": [
      "brine a maiden can season her praise in.\n",
      "   \n",
      "tensor([[0, 0, 0, 0, 0, 0, 0, 0, 0, 0, 0, 0, 0, 0, 0, 0, 0, 0, 0, 0, 0, 0, 0, 0,\n",
      "         0, 0, 0, 0, 0, 0, 0, 0, 0, 0, 0, 0, 0, 0, 0, 0, 0, 0, 0, 0, 0, 0, 0, 0,\n",
      "         0, 0, 0, 0, 0, 1, 0, 0, 0, 0, 0, 0, 0, 0, 0, 0, 0, 0, 0, 0, 0, 0, 0, 0,\n",
      "         0, 0, 0, 0, 0, 0],\n",
      "        [0, 0, 0, 0, 0, 0, 0, 0, 0, 0, 0, 0, 0, 0, 0, 0, 0, 0, 0, 0, 0, 0, 0, 0,\n",
      "         0, 0, 0, 0, 0, 0, 0, 0, 0, 0, 0, 0, 0, 0, 0, 0, 0, 0, 0, 0, 0, 0, 0, 0,\n",
      "         0, 0, 0, 0, 0, 0, 0, 0, 0, 0, 0, 0, 0, 0, 0, 0, 0, 0, 0, 0, 0, 1, 0, 0,\n",
      "         0, 0, 0, 0, 0, 0],\n",
      "        [0, 0, 0, 0, 0, 0, 0, 0, 0, 0, 0, 0, 0, 0, 0, 0, 0, 0, 0, 0, 0, 0, 0, 0,\n",
      "         0, 0, 0, 0, 0, 0, 0, 0, 0, 0, 0, 0, 0, 0, 0, 0, 0, 0, 0, 0, 0, 0, 0, 0,\n",
      "         0, 0, 0, 0, 0, 0, 0, 0, 0, 0, 0, 0, 1, 0, 0, 0, 0, 0, 0, 0, 0, 0, 0, 0,\n",
      "         0, 0, 0, 0, 0, 0]], dtype=torch.int8)\n"
     ]
    }
   ],
   "source": [
    "# Wrap the actual embedding functions for calling convenience\n",
    "def embed(text):\n",
    "    return charnn.chars_to_onehot(text, char_to_idx)\n",
    "\n",
    "def unembed(embedding):\n",
    "    return charnn.onehot_to_chars(embedding, idx_to_char)\n",
    "\n",
    "text_snippet = corpus[3104:3148]\n",
    "print(text_snippet)\n",
    "print(embed(text_snippet[0:3]))\n",
    "\n",
    "test.assertEqual(text_snippet, unembed(embed(text_snippet)))\n",
    "test.assertEqual(embed(text_snippet).dtype, torch.int8)"
   ]
  },
  {
   "cell_type": "markdown",
   "metadata": {},
   "source": [
    "### Dataset Creation\n",
    "<a id=part1_4></a>"
   ]
  },
  {
   "cell_type": "markdown",
   "metadata": {},
   "source": [
    "We wish to train our model to generate text by constantly predicting what the next char should be based on the past.\n",
    "To that end we'll need to train our recurrent network in a way similar to a classification task. At each timestep, we input a char and set the expected output (label) to be the next char in the original sequence.\n",
    "\n",
    "We will split our corpus into shorter sequences of length `S` chars (try to think why; see question below).\n",
    "Each **sample** we provide our model with will therefore be a tensor of shape `(S,V)` where `V` is the embedding dimension. Our model will operate sequentially on each char in the sequence.\n",
    "For each sample, we'll also need a **label**. This is simple another sequence, shifted by one char so that the label of each char is the next char in the corpus.\n",
    "\n",
    "**TODO**: Implement the `chars_to_labelled_samples()` function in the `hw3/charnn.py` module."
   ]
  },
  {
   "cell_type": "code",
   "execution_count": 7,
   "metadata": {
    "scrolled": true
   },
   "outputs": [
    {
     "name": "stdout",
     "output_type": "stream",
     "text": [
      "samples shape: torch.Size([99182, 64, 78])\n",
      "labels shape: torch.Size([99182, 64])\n",
      "sample 100 as text:\n",
      "nity, though valiant in the\n",
      "    defence, yet is weak. Unfold to \n"
     ]
    }
   ],
   "source": [
    "# Create dataset of sequences\n",
    "seq_len = 64\n",
    "vocab_len = len(char_to_idx)\n",
    "\n",
    "# Create labelled samples\n",
    "samples, labels = charnn.chars_to_labelled_samples(corpus, char_to_idx, seq_len, device)\n",
    "print(f'samples shape: {samples.shape}')\n",
    "print(f'labels shape: {labels.shape}')\n",
    "\n",
    "# Test shapes\n",
    "num_samples = (len(corpus) - 1) // seq_len\n",
    "test.assertEqual(samples.shape, (num_samples, seq_len, vocab_len))\n",
    "test.assertEqual(labels.shape, (num_samples, seq_len))\n",
    "\n",
    "# Test content\n",
    "for _ in range(1000):\n",
    "    # random sample\n",
    "    i = np.random.randint(num_samples, size=(1,))[0]\n",
    "    # Compare to corpus\n",
    "    test.assertEqual(unembed(samples[i]), corpus[i*seq_len:(i+1)*seq_len], msg=f\"content mismatch in sample {i}\")\n",
    "    # Compare to labels\n",
    "    sample_text = unembed(samples[i])\n",
    "    label_text = str.join('', [idx_to_char[j.item()] for j in labels[i]])\n",
    "    test.assertEqual(sample_text[1:], label_text[0:-1], msg=f\"label mismatch in sample {i}\")\n",
    "    \n",
    "print(f'sample 100 as text:\\n{unembed(samples[100])}')"
   ]
  },
  {
   "cell_type": "markdown",
   "metadata": {},
   "source": [
    "As usual, instead of feeding one sample as a time into our model's forward we'll work with **batches** of samples. This means that at every timestep, our model will operate on a batch of chars that are from **different sequences**.\n",
    "Effectively this will allow us to parallelize training our model by dong matrix-matrix multiplications\n",
    "instead of matrix-vector during the forward pass.\n",
    "\n",
    "Let's use the standard PyTorch `Dataset`/`DataLoader` combo. Luckily for the dataset we can use a built-in\n",
    "class, `TensorDataset` to return tuples of `(sample, label)` from the `samples` and `labels` tensors we created above."
   ]
  },
  {
   "cell_type": "code",
   "execution_count": 8,
   "metadata": {},
   "outputs": [],
   "source": [
    "import torch.utils.data\n",
    "\n",
    "# Create DataLoader returning batches of samples.\n",
    "batch_size = 32\n",
    "\n",
    "ds_corpus = torch.utils.data.TensorDataset(samples, labels)\n",
    "dl_corpus = torch.utils.data.DataLoader(ds_corpus, batch_size=batch_size, shuffle=False)"
   ]
  },
  {
   "cell_type": "markdown",
   "metadata": {},
   "source": [
    "Let's see what that gives us:"
   ]
  },
  {
   "cell_type": "code",
   "execution_count": 9,
   "metadata": {},
   "outputs": [
    {
     "name": "stdout",
     "output_type": "stream",
     "text": [
      "num batches: 3100\n",
      "shape of a batch sample: torch.Size([32, 64, 78])\n",
      "shape of a batch label: torch.Size([32, 64])\n"
     ]
    }
   ],
   "source": [
    "print(f'num batches: {len(dl_corpus)}')\n",
    "\n",
    "x0, y0 = next(iter(dl_corpus))\n",
    "print(f'shape of a batch sample: {x0.shape}')\n",
    "print(f'shape of a batch label: {y0.shape}')"
   ]
  },
  {
   "cell_type": "markdown",
   "metadata": {},
   "source": [
    "### Model Implementation\n",
    "<a id=part1_5></a>"
   ]
  },
  {
   "cell_type": "markdown",
   "metadata": {},
   "source": [
    "Finally, our data set is ready so we can focus on our model.\n",
    "\n",
    "We'll implement here is a multilayer gated recurrent unit (GRU) model, with dropout.\n",
    "This model is a type of RNN which performs similar to the well-known LSTM model,\n",
    "but it's somewhat easier to train because it has less parameters.\n",
    "We'll modify the regular GRU slightly by applying dropout to\n",
    "the hidden states passed between layers of the model.\n",
    "\n",
    "The model accepts an input $\\mat{X}\\in\\set{R}^{S\\times V}$ containing a sequence of embedded chars.\n",
    "It returns an output $\\mat{Y}\\in\\set{R}^{S\\times V}$ of predictions for the next char and the final hidden state\n",
    "$\\mat{H}\\in\\set{R}^{L\\times H}$. Here $S$ is the sequence length, $V$ is the vocabulary size (number of unique chars), $L$ is the number of layers in the model and $H$ is the hidden dimension."
   ]
  },
  {
   "cell_type": "markdown",
   "metadata": {},
   "source": [
    "Mathematically, the model's forward function at layer $k\\in[1,L]$ and timestep $t\\in[1,S]$ can be described as\n",
    "\n",
    "$$\n",
    "\\begin{align}\n",
    "\\vec{z_t}^{[k]} &= \\sigma\\left(\\vec{x}^{[k]}_t {\\mattr{W}_{\\mathrm{xz}}}^{[k]} +\n",
    "    \\vec{h}_{t-1}^{[k]} {\\mattr{W}_{\\mathrm{hz}}}^{[k]} + \\vec{b}_{\\mathrm{z}}^{[k]}\\right) \\\\\n",
    "\\vec{r_t}^{[k]} &= \\sigma\\left(\\vec{x}^{[k]}_t {\\mattr{W}_{\\mathrm{xr}}}^{[k]} +\n",
    "    \\vec{h}_{t-1}^{[k]} {\\mattr{W}_{\\mathrm{hr}}}^{[k]} + \\vec{b}_{\\mathrm{r}}^{[k]}\\right) \\\\\n",
    "\\vec{g_t}^{[k]} &= \\tanh\\left(\\vec{x}^{[k]}_t {\\mattr{W}_{\\mathrm{xg}}}^{[k]} +\n",
    "    (\\vec{r_t}^{[k]}\\odot\\vec{h}_{t-1}^{[k]}) {\\mattr{W}_{\\mathrm{hg}}}^{[k]} + \\vec{b}_{\\mathrm{g}}^{[k]}\\right) \\\\\n",
    "\\vec{h_t}^{[k]} &= \\vec{z}^{[k]}_t \\odot \\vec{h}^{[k]}_{t-1} + \\left(1-\\vec{z}^{[k]}_t\\right)\\odot \\vec{g_t}^{[k]}\n",
    "\\end{align}\n",
    "$$"
   ]
  },
  {
   "cell_type": "markdown",
   "metadata": {},
   "source": [
    "The input to each layer is,\n",
    "$$\n",
    "\\mat{X}^{[k]} =\n",
    "\\begin{bmatrix}\n",
    "    {\\vec{x}_1}^{[k]} \\\\ \\vdots \\\\ {\\vec{x}_S}^{[k]}\n",
    "\\end{bmatrix} \n",
    "=\n",
    "\\begin{cases}\n",
    "    \\mat{X} & \\mathrm{if} ~k = 1~ \\\\\n",
    "    \\mathrm{dropout}_p \\left(\n",
    "    \\begin{bmatrix}\n",
    "        {\\vec{h}_1}^{[k-1]} \\\\ \\vdots \\\\ {\\vec{h}_S}^{[k-1]}\n",
    "    \\end{bmatrix} \\right) & \\mathrm{if} ~1 < k \\leq L+1~\n",
    "\\end{cases}.\n",
    "$$"
   ]
  },
  {
   "cell_type": "markdown",
   "metadata": {},
   "source": [
    "The output of the entire model is then,\n",
    "$$\n",
    "\\mat{Y} = \\mat{X}^{[L+1]} {\\mattr{W}_{\\mathrm{hy}}} + \\mat{B}_{\\mathrm{y}}\n",
    "$$"
   ]
  },
  {
   "cell_type": "markdown",
   "metadata": {},
   "source": [
    "and the final hidden state is\n",
    "$$\n",
    "\\mat{H} = \n",
    "\\begin{bmatrix}\n",
    "    {\\vec{h}_S}^{[1]} \\\\ \\vdots \\\\ {\\vec{h}_S}^{[L]}\n",
    "\\end{bmatrix}.\n",
    "$$"
   ]
  },
  {
   "cell_type": "markdown",
   "metadata": {},
   "source": [
    "Notes:\n",
    "- $t\\in[1,S]$ is the timestep, i.e. the current position within the sequence of each sample.\n",
    "- $\\vec{x}_t^{[k]}$ is the input of layer $k$ at timestep $t$, respectively.\n",
    "- The outputs of the **last layer** $\\vec{y}_t^{[L]}$, are the predicted next characters for every input char.\n",
    "  These are similar to class scores in classification tasks.\n",
    "- The hidden states at the **last timestep**, $\\vec{h}_S^{[k]}$, are the final hidden state returned from the model.\n",
    "- $\\sigma(\\cdot)$ is the sigmoid function, i.e. $\\sigma(\\vec{z}) = 1/(1+e^{-\\vec{z}})$ which returns values in $(0,1)$.\n",
    "- $\\tanh(\\cdot)$ is the hyperbolic tangent, i.e. $\\tanh(\\vec{z}) = (e^{2\\vec{z}}-1)/(e^{2\\vec{z}}+1)$ which returns values in $(-1,1)$.\n",
    "- $\\vec{h_t}^{[k]}$ is the hidden state of layer $k$ at time $t$. This can be thought of as the memory of that layer.\n",
    "- $\\vec{g_t}^{[k]}$ is the candidate hidden state for time $t+1$.\n",
    "- $\\vec{z_t}^{[k]}$ is known as the update gate. It combines the previous state with the input to determine how much the current state will be combined with the new candidate state. For example, if $\\vec{z_t}^{[k]}=\\vec{1}$ then the current input has no effect on the output.\n",
    "- $\\vec{r_t}^{[k]}$ is known as the reset gate. It combines the previous state with the input to determine how much of the previous state will affect the current state candidate. For example if $\\vec{r_t}^{[k]}=\\vec{0}$ the previous state has no effect on the current candidate state."
   ]
  },
  {
   "cell_type": "markdown",
   "metadata": {},
   "source": [
    "Here's a graphical representation of the GRU's forward pass at each timestep. The $\\vec{\\tilde{h}}$ in the image is our $\\vec{g}$ (candidate next state).\n",
    "\n",
    "<img src=\"imgs/gru_cell.png\" width=\"400\"/>\n",
    "\n",
    "You can see how the reset and update gates allow the model to completely ignore it's previous state, completely ignore it's input, or any mixture of those states (since the gates are actually continuous and between $(0,1)$)."
   ]
  },
  {
   "cell_type": "markdown",
   "metadata": {},
   "source": [
    "Here's a graphical representation of the entire model.\n",
    "You can ignore the $c_t^{[k]}$ (cell state) variables (which are relevant for LSTM models).\n",
    "Our model has only the hidden state, $h_t^{[k]}$. Also notice that we added dropout between layers (the up arrows).\n",
    "\n",
    "<img src=\"imgs/lstm_model.png\"/>\n",
    "\n",
    "The purple tensors are inputs (a sequence and initial hidden state per layer), and the green tensors are outputs (another sequence and final hidden state per layer). Each blue block implements the above forward equations.\n",
    "Blocks that are on the same vertical level are at the same layer, and therefore share parameters."
   ]
  },
  {
   "cell_type": "markdown",
   "metadata": {},
   "source": [
    "**TODO**: Implement the `MultilayerGRU` class in the `hw3/charnn.py` module.\n",
    "\n",
    "Notes:\n",
    "- You'll need to handle input **batches** now.\n",
    "  The math is identical to the above, but all the tensors will have an extra batch\n",
    "  dimension as their first dimension.\n",
    "- Use the diagram above to help guide your implementation.\n",
    "  It will help you visualize what shapes to returns where, etc.\n"
   ]
  },
  {
   "cell_type": "code",
   "execution_count": 10,
   "metadata": {},
   "outputs": [
    {
     "name": "stdout",
     "output_type": "stream",
     "text": [
      "MultilayerGRU(\n",
      "  (param_l0_p0): Linear(in_features=78, out_features=1, bias=True)\n",
      "  (param_l0_p1): Linear(in_features=256, out_features=1, bias=False)\n",
      "  (param_l0_p2): Linear(in_features=78, out_features=1, bias=True)\n",
      "  (param_l0_p3): Linear(in_features=256, out_features=1, bias=False)\n",
      "  (param_l0_p4): Linear(in_features=78, out_features=256, bias=True)\n",
      "  (param_l0_p5): Linear(in_features=256, out_features=256, bias=False)\n",
      "  (param_l0_p6): Dropout(p=0)\n",
      "  (param_l1_p0): Linear(in_features=256, out_features=1, bias=True)\n",
      "  (param_l1_p1): Linear(in_features=256, out_features=1, bias=False)\n",
      "  (param_l1_p2): Linear(in_features=256, out_features=1, bias=True)\n",
      "  (param_l1_p3): Linear(in_features=256, out_features=1, bias=False)\n",
      "  (param_l1_p4): Linear(in_features=256, out_features=256, bias=True)\n",
      "  (param_l1_p5): Linear(in_features=256, out_features=256, bias=False)\n",
      "  (param_l1_p6): Dropout(p=0)\n",
      "  (weights_hy): Linear(in_features=256, out_features=78, bias=True)\n",
      ")\n",
      "y.shape=torch.Size([32, 64, 78])\n",
      "h.shape=torch.Size([32, 2, 256])\n"
     ]
    }
   ],
   "source": [
    "in_dim = vocab_len\n",
    "h_dim = 256\n",
    "n_layers = 2\n",
    "model = charnn.MultilayerGRU(in_dim, h_dim, out_dim=in_dim, n_layers=n_layers)\n",
    "model = model.to(device)\n",
    "print(model)\n",
    "\n",
    "# Test forward pass\n",
    "y, h = model(x0.to(dtype=torch.float))\n",
    "print(f'y.shape={y.shape}')\n",
    "print(f'h.shape={h.shape}')\n",
    "\n",
    "test.assertEqual(y.shape, (batch_size, seq_len, vocab_len))\n",
    "test.assertEqual(h.shape, (batch_size, n_layers, h_dim))\n",
    "test.assertEqual(len(list(model.parameters())), 9 * n_layers + 2) "
   ]
  },
  {
   "cell_type": "markdown",
   "metadata": {},
   "source": [
    "### Generating text by sampling\n",
    "<a id=part1_6></a>"
   ]
  },
  {
   "cell_type": "markdown",
   "metadata": {},
   "source": [
    "Now that we have a model, we can implement **text generation** based on it.\n",
    "The idea is simple:\n",
    "At each timestep our model receives one char $x_t$ from the input sequence and outputs scores $y_t$\n",
    "for what the next char should be.\n",
    "We'll convert these scores into a probability over each of the possible chars.\n",
    "In other words, for each input char $x_t$ we create a probability distribution for the next char\n",
    "conditioned on the current one and the state of the model (representing all previous inputs):\n",
    "$$p(x_{t+1}|x_t; \\vec{h}_t).$$\n",
    "\n",
    "Once we have such a distribution, we'll sample a char from it.\n",
    "This will be the first char of our generated sequence.\n",
    "Now we can feed this new char into the model, create another distribution, sample the next char and so on.\n",
    "Note that it's crucial to propagate the hidden state when sampling.\n",
    "\n",
    "The important point however is how to create the distribution from the scores.\n",
    "One way, as we saw in previous ML tasks, is to use the softmax function.\n",
    "However, a drawback of softmax is that it can generate very diffuse (more uniform) distributions if the score values are very similar. When sampling, we would prefer to control the distributions and make them less uniform to increase the chance of sampling the char(s) with the highest scores compared to the others.\n",
    "\n",
    "To control the variance of the distribution, a common trick is to add a hyperparameter $T$, known as the \n",
    "*temperature* to the softmax function. The class scores are simply scaled by $T$ before softmax is applied:\n",
    "$$\n",
    "\\mathrm{softmax}_T(\\vec{y}) = \\frac{e^{\\vec{y}/T}}{\\sum_k e^{y_k/T}}\n",
    "$$\n",
    "\n",
    "A low $T$ will result in less uniform distributions and vice-versa."
   ]
  },
  {
   "cell_type": "markdown",
   "metadata": {},
   "source": [
    "**TODO**: Implement the `hot_softmax()` function in the `hw3/charnn.py` module."
   ]
  },
  {
   "cell_type": "code",
   "execution_count": 11,
   "metadata": {},
   "outputs": [
    {
     "data": {
      "image/png": "[encoded data removed]",
      "text/plain": [
       "<Figure size 1080x360 with 1 Axes>"
      ]
     },
     "metadata": {
      "needs_background": "light"
     },
     "output_type": "display_data"
    }
   ],
   "source": [
    "scores = y[0,0,:].detach()\n",
    "_, ax = plt.subplots(figsize=(15,5))\n",
    "\n",
    "for t in reversed([0.3, 0.5, 1.0, 100]):\n",
    "    ax.plot(charnn.hot_softmax(scores, temperature=t).cpu().numpy(), label=f'T={t}')\n",
    "ax.set_xlabel('$x_{t+1}$')\n",
    "ax.set_ylabel('$p(x_{t+1}|x_t)$')\n",
    "ax.legend()\n",
    "\n",
    "uniform_proba = 1/len(char_to_idx)\n",
    "uniform_diff = torch.abs(charnn.hot_softmax(scores, temperature=100) - uniform_proba)\n",
    "test.assertTrue(torch.all(uniform_diff < 1e-4))"
   ]
  },
  {
   "cell_type": "markdown",
   "metadata": {},
   "source": [
    "**TODO**: Implement the `generate_from_model()` function in the `hw3/charnn.py` module."
   ]
  },
  {
   "cell_type": "code",
   "execution_count": 12,
   "metadata": {},
   "outputs": [
    {
     "name": "stdout",
     "output_type": "stream",
     "text": [
      "foobarz ZNzbVxAl;3t;ufFByuK92]&Kf-,TdAW-Vu\"FnF2L)&\n",
      "foobar(\".O7:.qjq.wKwGD :[Xte]&8J&b14QkLGMl!JA[6g N\n",
      "foobarAApx!KL0XYKS]T?iSPg;:GRy-)d2ds1.:PqorN[LZH o\n"
     ]
    }
   ],
   "source": [
    "for _ in range(3):\n",
    "    text = charnn.generate_from_model(model, \"foobar\", 50, (char_to_idx, idx_to_char), T=0.5)\n",
    "    print(text)\n",
    "    test.assertEqual(len(text), 50)"
   ]
  },
  {
   "cell_type": "markdown",
   "metadata": {},
   "source": [
    "### Training\n",
    "<a id=part1_7></a>"
   ]
  },
  {
   "cell_type": "markdown",
   "metadata": {},
   "source": [
    "To train such a model, we'll calculate the loss at each time step by comparing the predicted char to\n",
    "the actual char from our label. We can use cross entropy since per char it's similar to a classification problem.\n",
    "We'll then sum the losses over the sequence and back-propagate the gradients though time.\n",
    "Notice that the back-propagation algorithm will \"visit\" each layer's parameter tensors multiple times,\n",
    "so we'll accumulate gradients in parameters of the blocks. Luckily `autograd` will handle this part for us."
   ]
  },
  {
   "cell_type": "markdown",
   "metadata": {},
   "source": [
    "As usual, the first step of training will be to try and **overfit** a large model (many parameters) to a tiny dataset.\n",
    "Again, this is to ensure the model and training code are implemented correctly, i.e. that the model can learn.\n",
    "\n",
    "For a generative model such as this, overfitting is slightly trickier than for for classification.\n",
    "What we'll aim to do is to get our model to **memorize** a specific sequence of chars, so that when given the first\n",
    "char in the sequence it will immediately spit out the rest of the sequence verbatim.\n",
    "\n",
    "Let's create a tiny dataset to memorize."
   ]
  },
  {
   "cell_type": "code",
   "execution_count": 13,
   "metadata": {},
   "outputs": [
    {
     "name": "stdout",
     "output_type": "stream",
     "text": [
      "Text to \"memorize\":\n",
      "\n",
      "TRAM. What would you have?\n",
      "  HELENA. Something; and scarce so much; nothing, indeed.\n",
      "    I would not tell you what I would, my lord.\n",
      "    Faith, yes:\n",
      "    Strangers and foes do sunder and not kiss.\n",
      "  BERTRAM. I pray you, stay not, but in haste to horse.\n",
      "  HE\n"
     ]
    }
   ],
   "source": [
    "# Pick a tiny subset of the dataset\n",
    "subset_start, subset_end = 1001, 1005\n",
    "ds_corpus_ss = torch.utils.data.Subset(ds_corpus, range(subset_start, subset_end))\n",
    "dl_corpus_ss = torch.utils.data.DataLoader(ds_corpus_ss, batch_size=1, shuffle=False)\n",
    "\n",
    "# Convert subset to text\n",
    "subset_text = ''\n",
    "for i in range(subset_end - subset_start):\n",
    "    subset_text += unembed(ds_corpus_ss[i][0])\n",
    "print(f'Text to \"memorize\":\\n\\n{subset_text}')"
   ]
  },
  {
   "cell_type": "markdown",
   "metadata": {},
   "source": [
    "Now let's implement the first part of our training code.\n",
    "\n",
    "**TODO**: Implement the `train_epoch()` and `train_batch()` methods of the `RNNTrainer` class in the `hw3/training.py` module. \n",
    "Note: Think about how to correctly handle the hidden state of the model between batches and epochs\n",
    "(for this specific task, i.e. text generation)."
   ]
  },
  {
   "cell_type": "code",
   "execution_count": 14,
   "metadata": {},
   "outputs": [
    {
     "name": "stdout",
     "output_type": "stream",
     "text": [
      "\n",
      "Epoch #1: Avg. loss = 3.829, Accuracy = 17.58%\n",
      "Tt t tttt t tttttttt tt ttt t tt t ttttt ttttttt  tts  tt   tt ttttt ttttt  tttt tt t tttt tt t t  t t  tt tt   tt t   ttt t s   t  t  ttttt  t t   ttty t  t tnt tt ttt  ttt t  tt t ott  ttt t tttt t tt ttt      t t t  t tt  t t t t t tttt t ttt  t ttt ttt\n",
      "\n",
      "Epoch #25: Avg. loss = 0.385, Accuracy = 88.67%\n",
      "TRAM. nothing, in haste to horse.\n",
      "  HELENA. Something, in haste to horse.\n",
      "  HELENA. Something, in haste ho sunder and not kiss and scarce so much; nothing, in haste ho sunder and scarce so much; nothing, in haste to horse.\n",
      "  HELENA. Something, in haste ho \n",
      "\n",
      "Epoch #50: Avg. loss = 0.012, Accuracy = 100.00%\n",
      "TRAM. What would you have?\n",
      "  HELENA. Something; and scarce so much; nothing, indeed.\n",
      "    I would not tell you what I would, my lord.\n",
      "    Faith, yes:\n",
      "    Strangers and foes do sunder and not kiss.\n",
      "  BERTRAM. I pray you, stay not, but in haste to horse.\n",
      "  HE\n"
     ]
    }
   ],
   "source": [
    "import torch.nn as nn\n",
    "import torch.optim as optim\n",
    "from hw3.training import RNNTrainer\n",
    "\n",
    "torch.manual_seed(13)\n",
    "\n",
    "lr = 0.01\n",
    "num_epochs = 500\n",
    "\n",
    "in_dim = vocab_len\n",
    "h_dim = 128\n",
    "n_layers = 2\n",
    "loss_fn = nn.CrossEntropyLoss()\n",
    "model = charnn.MultilayerGRU(in_dim, h_dim, out_dim=in_dim, n_layers=n_layers).to(device)\n",
    "optimizer = optim.Adam(model.parameters(), lr=lr)\n",
    "trainer = RNNTrainer(model, loss_fn, optimizer, device)\n",
    "\n",
    "for epoch in range(num_epochs):\n",
    "    epoch_result = trainer.train_epoch(dl_corpus_ss, verbose=False)\n",
    "    \n",
    "    # Every X epochs, we'll generate a sequence starting from the first char in the first sequence\n",
    "    # to visualize how/if/what the model is learning.\n",
    "    if epoch == 0 or (epoch+1) % 25 == 0:\n",
    "        avg_loss = np.mean(epoch_result.losses)\n",
    "        accuracy = np.mean(epoch_result.accuracy)\n",
    "        print(f'\\nEpoch #{epoch+1}: Avg. loss = {avg_loss:.3f}, Accuracy = {accuracy:.2f}%')\n",
    "        \n",
    "        generated_sequence = charnn.generate_from_model(model, subset_text[0],\n",
    "                                                        seq_len*(subset_end-subset_start),\n",
    "                                                        (char_to_idx,idx_to_char), T=0.1)\n",
    "        # Stop if we've successfully memorized the small dataset.\n",
    "        print(generated_sequence)\n",
    "        if generated_sequence == subset_text:\n",
    "            break\n",
    "\n",
    "# Test successful overfitting\n",
    "test.assertGreater(epoch_result.accuracy, 99)\n",
    "test.assertEqual(generated_sequence, subset_text)"
   ]
  },
  {
   "cell_type": "markdown",
   "metadata": {},
   "source": [
    "OK, so training works - we can memorize a short sequence. Next on the agenda is to split our full dataset into a training and test sets of batched sequences."
   ]
  },
  {
   "cell_type": "code",
   "execution_count": 15,
   "metadata": {},
   "outputs": [
    {
     "name": "stdout",
     "output_type": "stream",
     "text": [
      "Train: 348 batches, 5701632 chars\n",
      "Test:   38 batches,  622592 chars\n"
     ]
    }
   ],
   "source": [
    "# Full dataset definition\n",
    "vocab_len = len(char_to_idx)\n",
    "seq_len = 64\n",
    "batch_size = 256\n",
    "train_test_ratio = 0.9\n",
    "num_samples = (len(corpus) - 1) // seq_len\n",
    "num_train = int(train_test_ratio * num_samples)\n",
    "\n",
    "samples, labels = charnn.chars_to_labelled_samples(corpus, char_to_idx, seq_len, device)\n",
    "\n",
    "ds_train = torch.utils.data.TensorDataset(samples[:num_train], labels[:num_train])\n",
    "dl_train = torch.utils.data.DataLoader(ds_train, batch_size=batch_size, shuffle=False, drop_last=True)\n",
    "\n",
    "ds_test = torch.utils.data.TensorDataset(samples[num_train:], labels[num_train:])\n",
    "dl_test = torch.utils.data.DataLoader(ds_test, batch_size=batch_size, shuffle=False, drop_last=True)\n",
    "\n",
    "print(f'Train: {len(dl_train):3d} batches, {len(dl_train)*batch_size*seq_len:7d} chars')\n",
    "print(f'Test:  {len(dl_test):3d} batches, {len(dl_test)*batch_size*seq_len:7d} chars')"
   ]
  },
  {
   "cell_type": "markdown",
   "metadata": {},
   "source": [
    "We'll now train a much larger model on our large dataset.\n",
    "You'll need a **GPU** for this part.\n",
    "\n",
    "The code blocks below will train the model and save checkpoints containing the training state and the best model parameters to a file. This allows you to stop training and resume it later from where you left.\n",
    "\n",
    "Note that you can use the `main.py` script provided within the assignment folder to run this notebook from the command line as if it were a python script by using the `run-nb` subcommand. This allows you to train your model using this notebook without starting jupyter. You can combine this with `srun` or `sbatch` to run the notebook with a GPU on the course servers."
   ]
  },
  {
   "cell_type": "code",
   "execution_count": 21,
   "metadata": {},
   "outputs": [],
   "source": [
    "# Full training definition\n",
    "lr = 0.001\n",
    "num_epochs = 50\n",
    "\n",
    "in_dim = out_dim = vocab_len\n",
    "hidden_dim = 512\n",
    "n_layers = 3\n",
    "dropout = 0.5\n",
    "checkpoint_file = 'checkpoints/rnn'\n",
    "max_batches = 300\n",
    "early_stopping = 5\n",
    "\n",
    "model = charnn.MultilayerGRU(in_dim, hidden_dim, out_dim, n_layers, dropout)\n",
    "model = model.to(device)\n",
    "loss_fn = nn.CrossEntropyLoss()\n",
    "optimizer = optim.Adam(model.parameters(), lr=lr)\n",
    "scheduler = optim.lr_scheduler.ReduceLROnPlateau(optimizer, mode='max', factor=0.5, patience=2, verbose=True)\n",
    "trainer = RNNTrainer(model, loss_fn, optimizer, device)"
   ]
  },
  {
   "cell_type": "markdown",
   "metadata": {},
   "source": [
    "**TODO**:\n",
    "- Implement the `fit()` method of the `Trainer` class. \n",
    "- Implement the `test_epoch()` and `test_batch()` methods of the `RNNTrainer` class in the `hw3/training.py` module.\n",
    "- Run the following block to train."
   ]
  },
  {
   "cell_type": "code",
   "execution_count": 22,
   "metadata": {},
   "outputs": [
    {
     "name": "stdout",
     "output_type": "stream",
     "text": [
      "ACT I.VQSrozE:DRtY7.P d.pIcod.WV,Oiak-1L\n",
      "jJHt9A(MPFv04(N]p,M]UZuCyXeEvJe]Hhg6rFm[J:oqRZgO38x0KFXIOYa\n",
      "--- EPOCH 1/50 ---\n",
      "train_batch (Avg. Loss 2.431, Accuracy 34.4): 100%|██████████| 348/348 [03:47<00:00,  1.57it/s]\n",
      "test_batch (Avg. Loss 2.140, Accuracy 37.5): 100%|██████████| 38/38 [00:08<00:00,  4.59it/s]\n",
      "ACT I.\n",
      "\n",
      "The so the stils a do he all me grat hered the to seare the for the of the his the the seare\n",
      "--- EPOCH 2/50 ---\n",
      "train_batch (Avg. Loss 2.024, Accuracy 42.4): 100%|██████████| 348/348 [02:22<00:00,  2.95it/s]\n",
      "test_batch (Avg. Loss 1.975, Accuracy 41.6): 100%|██████████| 38/38 [00:04<00:00,  8.36it/s]\n",
      "ACT I.\n",
      "\n",
      "FARD HARD ING\n",
      "For the more of that be in that shall seep the ame in the would hearters and b\n",
      "--- EPOCH 3/50 ---\n",
      "train_batch (Avg. Loss 1.920, Accuracy 45.0): 100%|██████████| 348/348 [03:06<00:00,  1.58it/s]\n",
      "test_batch (Avg. Loss 1.892, Accuracy 43.8): 100%|██████████| 38/38 [00:08<00:00,  4.56it/s]\n",
      "ACT I.\n",
      "\n",
      "BUCHARD\n",
      " Here a day have repotion, the reperild the cause was a garl in shall seart, and and\n",
      "--- EPOCH 4/50 ---\n",
      "train_batch (Avg. Loss 1.860, Accuracy 46.5): 100%|██████████| 348/348 [03:47<00:00,  1.46it/s]\n",
      "test_batch (Avg. Loss 1.831, Accuracy 45.2): 100%|██████████| 38/38 [00:08<00:00,  4.72it/s]\n",
      "ACT I.\n",
      "\n",
      "KING RORIUS: he have the very to make the prove in the destred and the cores, the sear my la\n",
      "--- EPOCH 5/50 ---\n",
      "train_batch (Avg. Loss 1.819, Accuracy 47.6): 100%|██████████| 348/348 [03:47<00:00,  1.57it/s]\n",
      "test_batch (Avg. Loss 1.790, Accuracy 46.3): 100%|██████████| 38/38 [00:08<00:00,  4.59it/s]\n",
      "ACT I.\n",
      "The fainst that when the she more dear the earth the dear the wrong more the part.\n",
      "\n",
      "KING RENT\n",
      "--- EPOCH 6/50 ---\n",
      "train_batch (Avg. Loss 1.788, Accuracy 48.4): 100%|██████████| 348/348 [02:29<00:00,  2.95it/s]\n",
      "test_batch (Avg. Loss 1.763, Accuracy 47.1): 100%|██████████| 38/38 [00:04<00:00,  8.45it/s]\n",
      "ACT I.\n",
      "Before of him in war would not and some soul, or more the heart of the with a sentend me to b\n",
      "--- EPOCH 7/50 ---\n",
      "train_batch (Avg. Loss 1.764, Accuracy 49.1): 100%|██████████| 348/348 [01:58<00:00,  2.95it/s]\n",
      "test_batch (Avg. Loss 1.739, Accuracy 47.8): 100%|██████████| 38/38 [00:04<00:00,  8.31it/s]\n",
      "ACT I.\n",
      "\n",
      "FLORG\n",
      "ACHARD II:\n",
      "And with undone to be the stain the father's take the we the sure the world\n",
      "--- EPOCH 8/50 ---\n",
      "train_batch (Avg. Loss 1.744, Accuracy 49.6): 100%|██████████| 348/348 [02:00<00:00,  2.94it/s]\n",
      "test_batch (Avg. Loss 1.721, Accuracy 48.3): 100%|██████████| 38/38 [00:04<00:00,  8.26it/s]\n",
      "ACT I.\n",
      "\n",
      "DUKE OF AProble to the contries, and the true the say you ne the dead to him the king to me \n",
      "--- EPOCH 9/50 ---\n",
      "train_batch (Avg. Loss 1.728, Accuracy 50.1): 100%|██████████| 348/348 [01:57<00:00,  2.93it/s]\n",
      "test_batch (Avg. Loss 1.707, Accuracy 48.6): 100%|██████████| 38/38 [00:04<00:00,  8.23it/s]\n",
      "ACT I.\n",
      "The come, to with my tround the lord, would not with they have the son, his live the street t\n",
      "--- EPOCH 10/50 ---\n",
      "train_batch (Avg. Loss 1.714, Accuracy 50.4): 100%|██████████| 348/348 [01:59<00:00,  2.94it/s]\n",
      "test_batch (Avg. Loss 1.694, Accuracy 49.1): 100%|██████████| 38/38 [00:04<00:00,  8.37it/s]\n",
      "ACT I.\n",
      "\n",
      "KING RICHARD II:\n",
      "Agen and make the sunter the now part of the reason, the troupt thou words \n",
      "--- EPOCH 11/50 ---\n",
      "train_batch (Avg. Loss 1.703, Accuracy 50.8): 100%|██████████| 348/348 [01:58<00:00,  2.93it/s]\n",
      "test_batch (Avg. Loss 1.684, Accuracy 49.3): 100%|██████████| 38/38 [00:04<00:00,  8.23it/s]\n",
      "ACT I.\n",
      "\n",
      "KING RICHARD II:\n",
      "Which is thou have a can the rearing of ull the words the compand which cou\n",
      "--- EPOCH 12/50 ---\n",
      "train_batch (Avg. Loss 1.693, Accuracy 51.0): 100%|██████████| 348/348 [01:58<00:00,  2.95it/s]\n",
      "test_batch (Avg. Loss 1.673, Accuracy 49.7): 100%|██████████| 38/38 [00:04<00:00,  8.34it/s]\n",
      "ACT I.\n",
      "\n",
      "LARDIUS:\n",
      "Good father to a gainst the grace and lord, the man more the fair prive upon the se\n",
      "--- EPOCH 13/50 ---\n",
      "train_batch (Avg. Loss 1.684, Accuracy 51.3): 100%|██████████| 348/348 [01:57<00:00,  2.94it/s]\n",
      "test_batch (Avg. Loss 1.664, Accuracy 49.9): 100%|██████████| 38/38 [00:04<00:00,  8.36it/s]\n",
      "ACT I.\n",
      "\n",
      "LARDIUS:\n",
      "Not to be have the courtions and many of my lord, the humble where is the name of t\n",
      "--- EPOCH 14/50 ---\n",
      "train_batch (Avg. Loss 1.677, Accuracy 51.4): 100%|██████████| 348/348 [01:57<00:00,  2.98it/s]\n",
      "test_batch (Avg. Loss 1.659, Accuracy 50.1): 100%|██████████| 38/38 [00:04<00:00,  8.55it/s]\n",
      "ACT I.\n",
      "\n",
      "QUEEN ELIZABETH:\n",
      "I am the denied in his love the polance I have be consent the country canst\n",
      "--- EPOCH 15/50 ---\n",
      "train_batch (Avg. Loss 1.670, Accuracy 51.7): 100%|██████████| 348/348 [01:58<00:00,  2.96it/s]\n",
      "test_batch (Avg. Loss 1.652, Accuracy 50.3): 100%|██████████| 38/38 [00:04<00:00,  8.41it/s]\n",
      "ACT I.\n",
      "\n",
      "DUKE OF YORK:\n",
      "Now with some bear the earth, the soul of my sun was a canst the power, the ba\n",
      "--- EPOCH 16/50 ---\n",
      "train_batch (Avg. Loss 1.664, Accuracy 51.8): 100%|██████████| 348/348 [01:59<00:00,  2.92it/s]\n",
      "test_batch (Avg. Loss 1.646, Accuracy 50.5): 100%|██████████| 38/38 [00:04<00:00,  8.21it/s]\n",
      "ACT I.\n",
      "\n",
      "DUKE.\n",
      "And with a sorrow the proper my son charge and great with me with the hath a man.\n",
      "\n",
      "KIN\n",
      "--- EPOCH 17/50 ---\n",
      "train_batch (Avg. Loss 1.658, Accuracy 52.0): 100%|██████████| 348/348 [01:59<00:00,  2.94it/s]\n",
      "test_batch (Avg. Loss 1.643, Accuracy 50.6): 100%|██████████| 38/38 [00:04<00:00,  7.99it/s]\n",
      "ACT I.\n",
      "\n",
      "KING RICHARD II:\n",
      "When it the sure shall break in the prove the man earth that he whose thoug\n",
      "--- EPOCH 18/50 ---\n",
      "train_batch (Avg. Loss 1.653, Accuracy 52.1): 100%|██████████| 348/348 [01:58<00:00,  2.80it/s]\n",
      "test_batch (Avg. Loss 1.637, Accuracy 50.8): 100%|██████████| 38/38 [00:04<00:00,  8.33it/s]\n",
      "ACT I.\n",
      "\n",
      "KING RICHARD II:\n",
      "What make the lord with the fair father's see the play do with the true my \n",
      "--- EPOCH 19/50 ---\n",
      "train_batch (Avg. Loss 1.649, Accuracy 52.2): 100%|██████████| 348/348 [01:58<00:00,  2.92it/s]\n",
      "test_batch (Avg. Loss 1.635, Accuracy 50.8): 100%|██████████| 38/38 [00:04<00:00,  8.35it/s]\n",
      "ACT I.\n",
      "How the world be in the seated me and mine own proof and earth of the death the sing with his\n",
      "--- EPOCH 20/50 ---\n",
      "train_batch (Avg. Loss 1.644, Accuracy 52.3): 100%|██████████| 348/348 [01:58<00:00,  2.98it/s]\n",
      "test_batch (Avg. Loss 1.628, Accuracy 51.0): 100%|██████████| 38/38 [00:04<00:00,  8.51it/s]\n",
      "ACT I.\n",
      "The dear in our death to see the course and end of the trink of the more than with the change\n",
      "--- EPOCH 21/50 ---\n",
      "train_batch (Avg. Loss 1.641, Accuracy 52.5): 100%|██████████| 348/348 [02:13<00:00,  1.55it/s]\n",
      "test_batch (Avg. Loss 1.629, Accuracy 50.9): 100%|██████████| 38/38 [00:08<00:00,  4.70it/s]\n",
      "ACT I.\n",
      "\n",
      "KING RICHARD II:\n",
      "Now here, and the state of the train of this death the shall not there's hi\n",
      "--- EPOCH 22/50 ---\n",
      "train_batch (Avg. Loss 1.638, Accuracy 52.5): 100%|██████████| 348/348 [03:47<00:00,  1.50it/s]\n",
      "test_batch (Avg. Loss 1.625, Accuracy 51.1): 100%|██████████| 38/38 [00:08<00:00,  4.55it/s]\n",
      "ACT I.\n",
      "\n",
      "KING RICHARD II:\n",
      "But is the aurest of it is the king,\n",
      "And make the with him have to his hear\n",
      "--- EPOCH 23/50 ---\n",
      "train_batch (Avg. Loss 1.634, Accuracy 52.6): 100%|██████████| 348/348 [03:46<00:00,  1.56it/s]\n",
      "test_batch (Avg. Loss 1.620, Accuracy 51.2): 100%|██████████| 38/38 [00:08<00:00,  4.71it/s]\n",
      "ACT I.\n",
      "\n",
      "LORD LEONTES:\n",
      "The part to my heart to heart in a counterford her will be a country with us s\n",
      "--- EPOCH 24/50 ---\n",
      "train_batch (Avg. Loss 1.631, Accuracy 52.7): 100%|██████████| 348/348 [03:18<00:00,  3.02it/s]\n",
      "test_batch (Avg. Loss 1.619, Accuracy 51.1): 100%|██████████| 38/38 [00:04<00:00,  8.60it/s]\n",
      "ACT I.\n",
      "\n",
      "DUKE OF YORK:\n",
      "My lord, my lord, the destruction of his heart in the way, he was be my son, m\n",
      "--- EPOCH 25/50 ---\n",
      "train_batch (Avg. Loss 1.629, Accuracy 52.8): 100%|██████████| 348/348 [01:55<00:00,  2.99it/s]\n",
      "test_batch (Avg. Loss 1.616, Accuracy 51.3): 100%|██████████| 38/38 [00:04<00:00,  8.53it/s]\n",
      "ACT I.\n",
      "\n",
      "KING RICHARD II:\n",
      "But some stand the down his son was not lords and be the presently so be be\n",
      "--- EPOCH 26/50 ---\n",
      "train_batch (Avg. Loss 1.626, Accuracy 52.9): 100%|██████████| 348/348 [03:17<00:00,  1.49it/s]\n",
      "test_batch (Avg. Loss 1.613, Accuracy 51.3): 100%|██████████| 38/38 [00:08<00:00,  4.58it/s]\n",
      "ACT I.\n",
      "\n",
      "KING RICHARD II:\n",
      "Be part of heard the passion of our proud love the way you will not be a mo\n",
      "--- EPOCH 27/50 ---\n",
      "train_batch (Avg. Loss 1.624, Accuracy 52.9): 100%|██████████| 348/348 [03:47<00:00,  1.47it/s]\n",
      "test_batch (Avg. Loss 1.611, Accuracy 51.5): 100%|██████████| 38/38 [00:08<00:00,  4.37it/s]\n",
      "ACT I.\n",
      "\n",
      "KING RICHARD II:\n",
      "What make the Ergle me to the stand with the bastard, the shall have speak \n",
      "--- EPOCH 28/50 ---\n",
      "train_batch (Avg. Loss 1.621, Accuracy 53.0): 100%|██████████| 348/348 [03:48<00:00,  1.52it/s]\n",
      "test_batch (Avg. Loss 1.610, Accuracy 51.5): 100%|██████████| 38/38 [00:08<00:00,  4.39it/s]\n",
      "ACT I.\n",
      "\n",
      "KING RICHARD II:\n",
      "And they he hath so man of a supper, and so to the arm and heart to before \n",
      "--- EPOCH 29/50 ---\n",
      "train_batch (Avg. Loss 1.619, Accuracy 53.0): 100%|██████████| 348/348 [02:17<00:00,  2.93it/s]\n",
      "test_batch (Avg. Loss 1.606, Accuracy 51.5): 100%|██████████| 38/38 [00:04<00:00,  8.34it/s]\n",
      "ACT I.\n",
      "\n",
      "KING RICHARD II:\n",
      "But my proper of the world as lay the wife, let me to enemy, and and the fa\n",
      "--- EPOCH 30/50 ---\n",
      "train_batch (Avg. Loss 1.617, Accuracy 53.1): 100%|██████████| 348/348 [01:59<00:00,  2.94it/s]\n",
      "test_batch (Avg. Loss 1.606, Accuracy 51.6): 100%|██████████| 38/38 [00:04<00:00,  8.28it/s]\n",
      "ACT I.\n",
      "\n",
      "DUKE OF YORK:\n",
      "Who say I will not come to the way, he shall be and brought at his shall have \n",
      "--- EPOCH 31/50 ---\n",
      "train_batch (Avg. Loss 1.615, Accuracy 53.1): 100%|██████████| 348/348 [01:57<00:00,  2.98it/s]\n",
      "test_batch (Avg. Loss 1.604, Accuracy 51.7): 100%|██████████| 38/38 [00:04<00:00,  8.45it/s]\n",
      "ACT I.\n",
      "\n",
      "KING RICHARD II:\n",
      "The perporning was in the true land to be it is a black, but he hath for my\n",
      "--- EPOCH 32/50 ---\n",
      "train_batch (Avg. Loss 1.614, Accuracy 53.2): 100%|██████████| 348/348 [01:56<00:00,  2.98it/s]\n",
      "test_batch (Avg. Loss 1.603, Accuracy 51.7): 100%|██████████| 38/38 [00:04<00:00,  8.47it/s]\n",
      "ACT I.\n",
      "And will never speaks of heart, and my soul to be of the hands to the part of love him to see\n",
      "--- EPOCH 33/50 ---\n",
      "train_batch (Avg. Loss 1.612, Accuracy 53.2): 100%|██████████| 348/348 [01:59<00:00,  2.96it/s]\n",
      "test_batch (Avg. Loss 1.600, Accuracy 51.8): 100%|██████████| 38/38 [00:04<00:00,  8.24it/s]\n",
      "ACT I.\n",
      "\n",
      "KING RICHARD II:\n",
      "And the in heaven, do not stands the common his all thee do him be the hand\n",
      "--- EPOCH 34/50 ---\n",
      "train_batch (Avg. Loss 1.611, Accuracy 53.2): 100%|██████████| 348/348 [01:56<00:00,  2.99it/s]\n",
      "test_batch (Avg. Loss 1.599, Accuracy 51.8): 100%|██████████| 38/38 [00:04<00:00,  8.27it/s]\n",
      "ACT I.\n",
      "\n",
      "KING RICHARD II:\n",
      "The king of the cousin But live upon my fair way, and with his bloody man w\n",
      "--- EPOCH 35/50 ---\n",
      "train_batch (Avg. Loss 1.609, Accuracy 53.3): 100%|██████████| 348/348 [01:57<00:00,  3.02it/s]\n",
      "test_batch (Avg. Loss 1.598, Accuracy 51.8): 100%|██████████| 38/38 [00:04<00:00,  8.44it/s]\n",
      "ACT I.\n",
      "\n",
      "GLOUCESTER:\n",
      "Good man.\n",
      "\n",
      "KING RICHARD II:\n",
      "God say with the play my death of the ways and heart\n",
      "--- EPOCH 36/50 ---\n",
      "train_batch (Avg. Loss 1.608, Accuracy 53.3): 100%|██████████| 348/348 [01:55<00:00,  3.02it/s]\n",
      "test_batch (Avg. Loss 1.597, Accuracy 51.9): 100%|██████████| 38/38 [00:04<00:00,  8.59it/s]\n",
      "ACT I.\n",
      "The same in a thing in the country's son his soul, with a for a devil of the same his country\n",
      "--- EPOCH 37/50 ---\n",
      "train_batch (Avg. Loss 1.607, Accuracy 53.4): 100%|██████████| 348/348 [01:56<00:00,  2.99it/s]\n",
      "test_batch (Avg. Loss 1.596, Accuracy 51.8): 100%|██████████| 38/38 [00:04<00:00,  8.44it/s]\n",
      "ACT I.\n",
      "\n",
      "KING RICHARD II:\n",
      "O, the court to the stand the princes to heard my tome to fall the field I \n",
      "--- EPOCH 38/50 ---\n",
      "train_batch (Avg. Loss 1.606, Accuracy 53.4): 100%|██████████| 348/348 [01:56<00:00,  2.99it/s]\n",
      "test_batch (Avg. Loss 1.596, Accuracy 51.9): 100%|██████████| 38/38 [00:04<00:00,  8.51it/s]\n",
      "ACT I.\n",
      "The strong her better last of the write how my brother been being with him to the great far h\n",
      "--- EPOCH 39/50 ---\n",
      "train_batch (Avg. Loss 1.605, Accuracy 53.4): 100%|██████████| 348/348 [01:57<00:00,  2.92it/s]\n",
      "test_batch (Avg. Loss 1.593, Accuracy 51.9): 100%|██████████| 38/38 [00:04<00:00,  8.33it/s]\n",
      "ACT I.\n",
      "\n",
      "KING RICHARD III:\n",
      "And part him all the time, not the all the sight to me see the man in the \n",
      "--- EPOCH 40/50 ---\n",
      "train_batch (Avg. Loss 1.603, Accuracy 53.4): 100%|██████████| 348/348 [01:58<00:00,  2.95it/s]\n",
      "test_batch (Avg. Loss 1.594, Accuracy 51.9): 100%|██████████| 38/38 [00:04<00:00,  8.39it/s]\n",
      "ACT I.\n",
      "\n",
      "KING RICHARD III:\n",
      "Be rest that the will bring the beather to be the prove my storm are be to\n",
      "--- EPOCH 41/50 ---\n",
      "train_batch (Avg. Loss 1.603, Accuracy 53.4): 100%|██████████| 348/348 [01:57<00:00,  2.97it/s]\n",
      "test_batch (Avg. Loss 1.590, Accuracy 52.1): 100%|██████████| 38/38 [00:04<00:00,  8.26it/s]\n",
      "ACT I.\n",
      "\n",
      "KING RICHARD III:\n",
      "My lord, where the princes the treachere with which I say I should sea the\n",
      "--- EPOCH 42/50 ---\n",
      "train_batch (Avg. Loss 1.602, Accuracy 53.5): 100%|██████████| 348/348 [01:57<00:00,  2.95it/s]\n",
      "test_batch (Avg. Loss 1.591, Accuracy 52.1): 100%|██████████| 38/38 [00:04<00:00,  8.24it/s]\n",
      "ACT I.\n",
      "The faults and the Triet make the state the appear the say so the stand him and to your great\n",
      "--- EPOCH 43/50 ---\n",
      "train_batch (Avg. Loss 1.600, Accuracy 53.5): 100%|██████████| 348/348 [01:57<00:00,  2.97it/s]\n",
      "test_batch (Avg. Loss 1.592, Accuracy 52.0): 100%|██████████| 38/38 [00:04<00:00,  8.27it/s]\n",
      "ACT I.\n",
      "\n",
      "KING RICHARD III:\n",
      "But the conceive the part of the world and my true found both in the dear \n",
      "--- EPOCH 44/50 ---\n",
      "train_batch (Avg. Loss 1.600, Accuracy 53.5): 100%|██████████| 348/348 [01:57<00:00,  2.91it/s]\n",
      "test_batch (Avg. Loss 1.590, Accuracy 52.1): 100%|██████████| 38/38 [00:04<00:00,  8.44it/s]\n",
      "ACT I.\n",
      "\n",
      "BUCKINGHAM:\n",
      "Now I have advice to the to the poor man and the love, the arms and mine earth o\n",
      "--- EPOCH 45/50 ---\n",
      "train_batch (Avg. Loss 1.618, Accuracy 53.1): 100%|██████████| 348/348 [01:57<00:00,  2.91it/s]\n",
      "test_batch (Avg. Loss 1.595, Accuracy 51.8): 100%|██████████| 38/38 [00:04<00:00,  8.20it/s]\n",
      "ACT I.\n",
      "The cousin to my sent and bear upon the more than the coult with him to the guest thee to his\n",
      "--- EPOCH 46/50 ---\n",
      "train_batch (Avg. Loss 1.604, Accuracy 53.4): 100%|██████████| 348/348 [01:57<00:00,  2.98it/s]\n",
      "test_batch (Avg. Loss 1.591, Accuracy 51.9): 100%|██████████| 38/38 [00:04<00:00,  8.39it/s]\n",
      "ACT I.\n",
      "\n",
      "CORIOLANUS:\n",
      "What shall comes my house, and he hath not that I will be so much so hard's reas\n",
      "--- EPOCH 47/50 ---\n",
      "train_batch (Avg. Loss 1.600, Accuracy 53.5): 100%|██████████| 348/348 [01:57<00:00,  2.94it/s]\n",
      "test_batch (Avg. Loss 1.590, Accuracy 52.1): 100%|██████████| 38/38 [00:04<00:00,  8.31it/s]\n",
      "ACT I.\n",
      "\n",
      "BUCKINGHAM:\n",
      "What seevore of his wars and more at his fair with thee the fair either with so \n",
      "--- EPOCH 48/50 ---\n",
      "train_batch (Avg. Loss 1.598, Accuracy 53.6): 100%|██████████| 348/348 [01:57<00:00,  2.95it/s]\n",
      "test_batch (Avg. Loss 1.588, Accuracy 52.2): 100%|██████████| 38/38 [00:04<00:00,  8.27it/s]\n",
      "ACT I.\n",
      "\n",
      "KING RICHARD III:\n",
      "God stand to my heart thou shall the world with him, and not the sun to th\n",
      "--- EPOCH 49/50 ---\n",
      "train_batch (Avg. Loss 1.597, Accuracy 53.6): 100%|██████████| 348/348 [01:58<00:00,  2.96it/s]\n",
      "test_batch (Avg. Loss 1.588, Accuracy 52.1): 100%|██████████| 38/38 [00:04<00:00,  8.34it/s]\n",
      "ACT I.\n",
      "\n",
      "GLOUCESTER:\n",
      "The will and back her heart to the hard, and the son to the that comes the same \n",
      "--- EPOCH 50/50 ---\n",
      "train_batch (Avg. Loss 1.597, Accuracy 53.6): 100%|██████████| 348/348 [01:58<00:00,  2.94it/s]\n",
      "test_batch (Avg. Loss 1.587, Accuracy 52.1): 100%|██████████| 38/38 [00:04<00:00,  8.28it/s]\n",
      "ACT I.\n",
      "\n",
      "KING RICHARD II:\n",
      "I am the stand of the hands, and the stand the world with me not speak in m\n"
     ]
    },
    {
     "data": {
      "image/png": "[encoded data removed]",
      "text/plain": [
       "<Figure size 1152x720 with 4 Axes>"
      ]
     },
     "metadata": {
      "needs_background": "light"
     },
     "output_type": "display_data"
    }
   ],
   "source": [
    "from helpers.plot import plot_fit\n",
    "\n",
    "def post_epoch_fn(epoch, test_res, train_res, verbose):\n",
    "    # Update learning rate\n",
    "    scheduler.step(test_res.accuracy)\n",
    "    # Sample from model to show progress\n",
    "    if verbose:\n",
    "        start_seq = \"ACT I.\"\n",
    "        generated_sequence = charnn.generate_from_model(\n",
    "            model, start_seq, 100, (char_to_idx,idx_to_char), T=0.5\n",
    "        )\n",
    "        print(generated_sequence)\n",
    "\n",
    "# Train, unless final checkpoint is found\n",
    "checkpoint_file_final = f'{checkpoint_file}_final.pt'\n",
    "if os.path.isfile(checkpoint_file_final):\n",
    "    print(f'*** Loading final checkpoint file {checkpoint_file_final} instead of training')\n",
    "    saved_state = torch.load(checkpoint_file_final, map_location=device)\n",
    "    model.load_state_dict(saved_state['model_state'])\n",
    "else:\n",
    "    try:\n",
    "        # Print pre-training sampling\n",
    "        print(charnn.generate_from_model(model, \"ACT I.\", 100, (char_to_idx,idx_to_char), T=0.5))\n",
    "\n",
    "        fit_res = trainer.fit(dl_train, dl_test, num_epochs, max_batches=max_batches,\n",
    "                              post_epoch_fn=post_epoch_fn, early_stopping=early_stopping,\n",
    "                              checkpoints=checkpoint_file, print_every=1)\n",
    "        \n",
    "        fig, axes = plot_fit(fit_res)\n",
    "    except KeyboardInterrupt as e:\n",
    "        print('\\n *** Training interrupted by user')"
   ]
  },
  {
   "cell_type": "markdown",
   "metadata": {},
   "source": [
    "### Generating a work of art\n",
    "<a id=part1_8></a>"
   ]
  },
  {
   "cell_type": "markdown",
   "metadata": {},
   "source": [
    "Armed with our fully trained model, let's generate the next Hamlet! You should experiment with modifying the sampling temperature and see what happens.\n",
    "\n",
    "**TODO**: Specify the generation parameters in the `part4_generation_params()` function within the `hw3/answers.py` module."
   ]
  },
  {
   "cell_type": "code",
   "execution_count": 24,
   "metadata": {},
   "outputs": [
    {
     "name": "stdout",
     "output_type": "stream",
     "text": [
      "ACT I. Yarive to me feel my nater of his gance that sleep and bear the stand but so lies profession of happos to put in the\n",
      "The charge all thy more to be said, seek my sights away the world,\n",
      "The kind is the shall be worthy hearts to hear me in a tnother.\n",
      "\n",
      "KING RICHARD II:\n",
      "The ress upon him end and the swains want of a said hath not so for her sent fool shall flatterer:\n",
      "IAll on him to his honour he but thought the hand,\n",
      "And the master and thee to hear the cloud be a manks of her fair deny me so the pursiss to can sur from friends,\n",
      "And it is a great catstive of father's service in the king.\n",
      "\n",
      "KING RICHARD III:\n",
      "So a true adventiine the do thee and place doer to have to do see the moon the can of the stand again, are a scated with the hand; and when a dogs with I must weep for him by the start as the engrace in all the sword?\n",
      "\n",
      "KING RICHARDAIUS:\n",
      "No, sir, my lord.\n",
      "\n",
      "THALENGER:\n",
      "And lament's being like the coon loved mine instence and the contrart of his villain, us from mere discourse of the purse the atting fair is see the hand\n",
      "To expractise we are in pades the hall with best be he do keep the keep it ou the every fair honour, in the his parts\n",
      "The death of fice of his thing whine are my some conscience, is a continue of the part of rest provore as for the sure for my lord, who did he eight;\n",
      "We have capers of me to the cousin, madam, my lord Rome, that our should make thee.\n",
      "\n",
      "HENRY Bound him my tod sarcepon of wine but the rest that take the world with that free triem of curses of the stour for haste, but his horse of them a sense in the life,\n",
      "For the constance the rough the ere I say to speak was a amides this babes strange the poor sight in the ding with a man as ensaed him shall be preferments to but now I have breed to my souls of Parin and Camsand, and so much in this stands with besave by thee be and the love we rest it war in a son of forting the great many soul to the father this carsing of a good might been a bistaris of Rome, the speaks, so you have the stands your storm, Sir Antonio to be so read new shall me his to be but to heaven, thy enemy with me to save been stay with such a reasons,\n",
      "By me fair lafter serve yourself cement is the but a bright and the forest with noble judget the from his repreat with well of the sues for half of the purpose of the content, my lord, my lord the going love eyes of the princes,\n",
      "To speak entertain,\n",
      "Which he is cares and with my bards me beward with this tender house to stand the perforge the bind of fear.\n",
      "\n",
      "KING RICHARD II:\n",
      "Better to the was my part\n",
      "Mow of content of the man child, and to do the shame, my lord,\n",
      "For the adown of the ward,\n",
      "The grief to be chang her king of good things with shall have fear!\n",
      "The .\n",
      "\n",
      "Hor do not be not the man is heart was the honour, the more and love the death with all the story make see, and nature dispusion of what say that needs to be dead,\n",
      "By the Wol contrivious pray the more time and your bloody honour to the honour!\n",
      "\n",
      "KING RICHARD III:\n",
      "Shall it have follow the all shall be so was you are the renowned lady by Rome 'a so lies of the son,\n",
      "And do experie that days and porters this inches such a more and the gain he to me with the matter with their compary the name the comment me the well to hive the sene of a pale to my no half and crown, they hear me and common denied in my day, the inforn sure and every one shall be the tome to strength'd it presence of my worthy the deterpine of beause desire in their country was a beams it for a dead much ave my beg in the cause as but live to hear for with the pass of his catell be revenge the son is so hands and flood, and entertain'd heaven.\n",
      "For the place the proceeding the enemy may be nett thy love of earth that scat shall such a mours of it face of cire present me stepper the part that is princess be mofe of\n",
      "To seem this peace of his most for the cates the man hart the wit should are so doth the catsenf all a father sea, I know the loving forth a coust the auch.\n",
      "\n",
      "HENRY THERSINES:\n",
      "The maintance to the weak we were a man of the spings which what hard be out to seeting of her  That he shall be marries in the reason of words, the disposed of thee, sport so all the heart of my brother was stay I may stor with a wear her hand:\n",
      "The stand heart do him in his swand.\n",
      "\n",
      "HOLD:\n",
      "Now my by the sweet tought in the monster, some end the power and perlonder save man for the centure, and mape of the will begon, for his revenge our soul is, he most thousand glads, and be death that must fair was such a fair soul to no more to sick arms with the world to the mother death, and leaves, and what of the guard to the propore with your father and flow'r of the world this true, and I would let these act prince to cheek's sent thee.\n",
      "\n",
      "KING RICHARD II:\n",
      "The messenger's sweet of the enemy and more dis as me appear and a tome, and in the crown'd my confess when shame to tell your brief, who your carried with love the bones, and the propiee him the sons, and they that were a fear is lie than the hour the pity of his love to go enough of him towing not the world by the fair speak.\n",
      "\n",
      "KING RICHARD II:\n",
      "Thy lord, sir,\n",
      "The safety is the son that welcome, which did fresh of gentle Corniter,\n",
      "Which have not so see with a king out a fair friends confess, is heard him make a mistress For a so love the soul see the table man is made the proud Timon so canst I think it en Alongon's speak so our how it may speed of the works to the most read of thy shall let their cross are men pains.\n",
      "\n",
      "KING RICHARD II:\n",
      "But at the world wish my father's son right and rains suin to my hand to have nothing he was not the prove me a gain to his bloody than the time, which the weak doth revenge the servy a sing,\n",
      "The day be age, who say a man my\n",
      "That the prove of a wight shall like the counsel.\n",
      "\n",
      "KING RICHARD II:\n",
      "He was curse of them, sir, lay her own wit is the nene against whom therefore I have the power was his gods and thy name of her blood of him applain,\n",
      "The mother of this troat traits forsure to fall the most light strange out ear he hath stand thine ears's cannot live, do the heaven of my prove the money:\n",
      "Be so love, be so whom I nature:\n",
      "With my prayers, and we person; which the\n",
      "reason with his fill'd him from me, and not our ranks begin to would not make prove my lord, the good a piring but time it our rest thus begins and on them.\n",
      "\n",
      "LADY ROMAN. Show as a three warrant the perform, and gracious passion that you shall stand what had the proper to the truth the highness and here prithee, the soul hour to make me he will be his commands and turns the courtesy; and in the hand, the princes of many shall be Some steal he shall be with a palace his unto thee the sense:\n",
      "And thyself\n",
      "And at his spirits of the wear, be war that is my we eagle, not would not stcourse of the return that I would in their can all the hands, and which as please the will should be not to the courtesies to the sristing faint is the curning of that is the incense so prove a noble Master fantary, good my condemn;\n",
      "Bear him to the sun, if the great read and conscience so hand.\n",
      "\n",
      "KING RICHARD III:\n",
      "Good his handed!\n",
      "\n",
      "DUKE OF YORK:\n",
      "So disgainst the blaid?\n",
      "\n",
      "QUEEN ELIZABETH:\n",
      "Good mercy, and that make my should be so mutter'd at the true to the grous no more to him, and their leave in his hand, and stand the command to lines with thought for boy, sur it is too more man dear I may let us such a man so,\n",
      "Of him a day and dear arried as my lord,\n",
      "The stand with the well the keating the brow'd what is a lord of the way of his Holenger:\n",
      "But with her speak in his very suspected and give me cry of a kind be with the month to say shall have dear sweet speak I say 'all he hath take me to set my worse with he, I reform the same to serving so much be all upon him the honest grace so many dead in heavens to this man shall have a fown and to cheek we will of the close the part me in a speak is it is on this servant,\n",
      "And with lord Sallow, ese shall be joys to my my lord:\n",
      "The revenge the daughter in this the presently of me his head, what stand to be a man to moving call him ever have bode, and shall not be god, nor shall and he hath be at a king.\n",
      "\n",
      "DUKE OF AUCERVET:\n",
      "When bold the fairer stand cause is true\n",
      "And from the true all the inferted of the seen him to the hand; there has a sake, and not they shall know the world, death, and you comes a take these courtesy defend, my lord, and in his lord; but he hath step on their beat his sing which I know them in heaven so soin and me thou suspect the country's lord.\n",
      "\n",
      "KING RICHARD II:\n",
      "But tht be my caran in the means of thou well:\n",
      "For thou was not with the heaven and being a for me to live.\n",
      "\n",
      "DUKE OF YORK:\n",
      "My grown and every ray her fear, in the hands have so sause in the pratons, so thus all we have put your grief to tell them that I well be me and with the marking and love.\n",
      "\n",
      "KING RICHARD III:\n",
      "A pole country to a caper.\n",
      "\n",
      "QUEENHER:\n",
      "The heant we did his cousin,\n",
      "Bear our very lord,\n",
      "To think fair cruel to living to he ees the turning place and said faith is for my witch so thou art indeed of their ard for tell the he the gallof the sands with who king of try this shall have see,\n",
      "Which thy truth the certain are so tongue but a man aath of great it of our power these the takes mine way and swords he is gown:\n",
      "What should in the man to give this course of impossive man begin, the light so much bear the heart.\n",
      "\n",
      "QUEEN ELIZABETH:\n",
      "Good and wind for my soldier of a true sure past my fear'd for the same in must to my send him of York followed the nabe,\n",
      "Where heart, and the soul thee, and should be so not against the hand in courtesy, and I am tell him that had a uncle bear the hour to my son enhous John,\n",
      "Win the son and earn of my hearts be as my know a state,\n",
      "But false bistace, that I will strong and a most gruends and commend to the keep me old this black three hand, and leave him be perpare me to like the way the respect all our grace, great queen which they are this piting of the wars with my of the ear of this war in the shall and consent man see him be strength with Beatrice to the wor for who\n"
     ]
    }
   ],
   "source": [
    "import hw3.answers\n",
    "\n",
    "start_seq, temperature = hw3.answers.part4_generation_params()\n",
    "\n",
    "generated_sequence = charnn.generate_from_model(\n",
    "    model, start_seq, 10000, (char_to_idx,idx_to_char), T=temperature\n",
    ")\n",
    "\n",
    "print(generated_sequence)"
   ]
  },
  {
   "cell_type": "markdown",
   "metadata": {},
   "source": [
    "## Questions\n",
    "<a id=part1_9></a>"
   ]
  },
  {
   "cell_type": "markdown",
   "metadata": {},
   "source": [
    "**TODO** Answer the following questions. Write your answers in the appropriate variables in the module `hw3/answers.py`."
   ]
  },
  {
   "cell_type": "code",
   "execution_count": 1,
   "metadata": {},
   "outputs": [],
   "source": [
    "from helpers.answers import display_answer\n",
    "import hw3.answers"
   ]
  },
  {
   "cell_type": "markdown",
   "metadata": {},
   "source": [
    "### Question 1\n",
    "Why do we split the corpus into sequences instead of training on the whole text?"
   ]
  },
  {
   "cell_type": "code",
   "execution_count": 2,
   "metadata": {},
   "outputs": [
    {
     "data": {
      "text/markdown": [
       "\n",
       "**Your answer:**\n",
       "\n",
       "We split the corpus to sequences because:\n",
       "- the entire corpus can't fit in GPU memory all at once\n",
       "\n"
      ],
      "text/plain": [
       "<IPython.core.display.Markdown object>"
      ]
     },
     "metadata": {},
     "output_type": "display_data"
    }
   ],
   "source": [
    "display_answer(hw3.answers.part4_q1)"
   ]
  },
  {
   "cell_type": "markdown",
   "metadata": {},
   "source": [
    "### Question 2\n",
    "How is it possible that the generated text clearly shows memory longer than the sequence length?"
   ]
  },
  {
   "cell_type": "code",
   "execution_count": 3,
   "metadata": {},
   "outputs": [
    {
     "data": {
      "text/markdown": [
       "\n",
       "**Your answer:**\n",
       "\n",
       "\n",
       "\n",
       "The text can show memory longer than the sequence length because:\n",
       "- the hidden state isn't reset after `sequence_length` characters, and can remember further back.\n",
       "- when training, we didn't reset the hidden state between batches either, just between epochs.\n",
       "\n"
      ],
      "text/plain": [
       "<IPython.core.display.Markdown object>"
      ]
     },
     "metadata": {},
     "output_type": "display_data"
    }
   ],
   "source": [
    "display_answer(hw3.answers.part4_q2)"
   ]
  },
  {
   "cell_type": "markdown",
   "metadata": {},
   "source": [
    "### Question 3\n",
    "Why are we not shuffling the order of batches when training?"
   ]
  },
  {
   "cell_type": "code",
   "execution_count": 4,
   "metadata": {},
   "outputs": [
    {
     "data": {
      "text/markdown": [
       "\n",
       "**Your answer:**\n",
       "\n",
       "We do not shuffle the order of batches when training because:\n",
       "- we assume a relation between the next character to the characters before it, and model it as a hidden state. If we would've shuffled the order, the \"characters before the next character\" would be random and the hidden state won't reflect text of a real work of art. As result, the network won't be able to learn correctly the parameters that control how the hidden state affects the output. (specifically $W_{hz}$, $W_{hr}$, $W_{hg}$, $W_{hy}$ and the biases)\n",
       "\n",
       "\n"
      ],
      "text/plain": [
       "<IPython.core.display.Markdown object>"
      ]
     },
     "metadata": {},
     "output_type": "display_data"
    }
   ],
   "source": [
    "display_answer(hw3.answers.part4_q3)"
   ]
  },
  {
   "cell_type": "markdown",
   "metadata": {},
   "source": [
    "### Question 4\n",
    "1. Why do we lower the temperature for sampling (compared to the default of $1.0$ when training)?\n",
    "2. What happens when the temperature is very high and why?\n",
    "3. What happens when the temperature is very low and why?"
   ]
  },
  {
   "cell_type": "code",
   "execution_count": 5,
   "metadata": {},
   "outputs": [
    {
     "data": {
      "text/markdown": [
       "\n",
       "**Your answer:**\n",
       "\n",
       "1. During training we use a high temperature because we want the probability distribution of \"what is the next character\" to have a high variance. This allows the network to train against a wider range of predictions, promotes better learning and prevents overfitting.\n",
       "We lower the temperature for sampling because it means a lower variance, and thus a better chance that the next generated character is actually related to the previous characters (represented as hidden state), as opposed to the next character being random and unrelated.\n",
       "2. When the temperature is very high, the generated text contains many spelling mistakes and made-up words.\n",
       "This is because the probability distribution is more uniform and has a higher variance.\n",
       "Meaning, the next character generated has a higher chance to be unrelated to the previous characters.\n",
       "Additionaly, the structure of the text looks more like a play because it has many line breaks and capital letters, and also more panctuation.\n",
       "The has more of those because they are rarer than other characters (e.g. lowercase letters), and thus have a higher chance to be generated when the variance is high.\n",
       "3. When the temperature is very low, the generated text contains almost zero spelling mistakes or made-up words, but the structure doesn't look like a play. The text also has a tendency to repeat an expression of 2-3 words several times in succession (longer sequences for lower temperatures) before breaking the loop and moving on to other words.\n",
       "This is because the probability distribution is less uniform and has low variance, and thus is much more deterministic than before.\n",
       "Basically, this is the opposite of the high-temperature case with parallel reasoning.\n",
       "We do note that the lower variance supposedly could have caused more spelling mistakes, but this doesn't happen thanks to the memory contained in the hidden state being long enough (more than 3-4 characters back).\n",
       "The repeating expressions can happen when the hidden state causes a \"cycle\" and is due to the deterministic nature of the distribution. For example, if the last characters were \"the well \" and we assume the network and hidden state are such that the most likely next character is \"t\", and afterwards \"h\", \"e\", \" \", \"w\", etc. in a cycle, because of the low variance the most likely next character has a very high likelihood (delta-like) and the cycle will indeed be realized.\n",
       "This results in the generated text containing a string of \"the well the well the well\" repeatedly, until the cycle breaks due to a lower-likelihood next character being generated (by chance).\n",
       "\n",
       "\n"
      ],
      "text/plain": [
       "<IPython.core.display.Markdown object>"
      ]
     },
     "metadata": {},
     "output_type": "display_data"
    }
   ],
   "source": [
    "display_answer(hw3.answers.part4_q4)"
   ]
  },
  {
   "cell_type": "code",
   "execution_count": null,
   "metadata": {},
   "outputs": [],
   "source": []
  }
 ],
 "metadata": {
  "kernelspec": {
   "display_name": "Python 3",
   "language": "python",
   "name": "python3"
  },
  "language_info": {
   "codemirror_mode": {
    "name": "ipython",
    "version": 3
   },
   "file_extension": ".py",
   "mimetype": "text/x-python",
   "name": "python",
   "nbconvert_exporter": "python",
   "pygments_lexer": "ipython3",
   "version": "3.7.3"
  }
 },
 "nbformat": 4,
 "nbformat_minor": 2
}
